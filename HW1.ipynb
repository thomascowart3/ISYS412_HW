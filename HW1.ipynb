{
 "cells": [
  {
   "cell_type": "markdown",
   "metadata": {},
   "source": [
    "# HW 1: Thomas Cowart"
   ]
  },
  {
   "cell_type": "markdown",
   "metadata": {},
   "source": [
    "## Question 1 - Slicing Operations"
   ]
  },
  {
   "cell_type": "markdown",
   "metadata": {},
   "source": [
    "### 1."
   ]
  },
  {
   "cell_type": "code",
   "execution_count": 10,
   "metadata": {},
   "outputs": [],
   "source": [
    "# Write a Python script that prompts the user to enter a sentence.\n",
    "sentence = input(\"Enter a sentence: \")"
   ]
  },
  {
   "cell_type": "markdown",
   "metadata": {},
   "source": [
    "### 2."
   ]
  },
  {
   "cell_type": "code",
   "execution_count": 11,
   "metadata": {},
   "outputs": [
    {
     "data": {
      "text/plain": [
       "'Thi'"
      ]
     },
     "execution_count": 11,
     "metadata": {},
     "output_type": "execute_result"
    }
   ],
   "source": [
    "# a. The first three characters\n",
    "sentence[:3]"
   ]
  },
  {
   "cell_type": "code",
   "execution_count": 12,
   "metadata": {},
   "outputs": [
    {
     "data": {
      "text/plain": [
       "'le.'"
      ]
     },
     "execution_count": 12,
     "metadata": {},
     "output_type": "execute_result"
    }
   ],
   "source": [
    "# b. The last three characters\n",
    "sentence[-3:]"
   ]
  },
  {
   "cell_type": "code",
   "execution_count": 13,
   "metadata": {},
   "outputs": [
    {
     "data": {
      "text/plain": [
       "'Tssnxp.'"
      ]
     },
     "execution_count": 13,
     "metadata": {},
     "output_type": "execute_result"
    }
   ],
   "source": [
    "# c. Every third character of the sentence\n",
    "sentence[::3]"
   ]
  },
  {
   "cell_type": "code",
   "execution_count": 14,
   "metadata": {},
   "outputs": [
    {
     "data": {
      "text/plain": [
       "'.elpmaxe na si sihT'"
      ]
     },
     "execution_count": 14,
     "metadata": {},
     "output_type": "execute_result"
    }
   ],
   "source": [
    "# d. The sentence in reverse\n",
    "sentence[::-1]"
   ]
  },
  {
   "cell_type": "code",
   "execution_count": 15,
   "metadata": {},
   "outputs": [
    {
     "data": {
      "text/plain": [
       "'.lmx as iT'"
      ]
     },
     "execution_count": 15,
     "metadata": {},
     "output_type": "execute_result"
    }
   ],
   "source": [
    "# e. Every second character in reverse order\n",
    "sentence[::-2]"
   ]
  },
  {
   "cell_type": "markdown",
   "metadata": {},
   "source": [
    "## Question 2 - List, Dictionary, and Sets"
   ]
  },
  {
   "cell_type": "markdown",
   "metadata": {},
   "source": [
    "### 1."
   ]
  },
  {
   "cell_type": "code",
   "execution_count": null,
   "metadata": {},
   "outputs": [],
   "source": [
    "# Create a nested list called grades_data that stores the student grades\n",
    "grades_data = [\n",
    "    [\"Alice\", \"Math\", [90, 88, 95]],\n",
    "    [\"Alice\", \"Physics\", [86, 92, 88]],\n",
    "    [\"Bob\", \"Math\", [98, 95, 90]],\n",
    "    [\"Bob\", \"Physics\", [78, 95, 87]],\n",
    "    [\"Charlie\", \"Math\", [78, 80, 75]],\n",
    "    [\"Charlie\", \"Physics\", [82, 78, 80]]\n",
    "]"
   ]
  },
  {
   "cell_type": "markdown",
   "metadata": {},
   "source": [
    "### 2."
   ]
  },
  {
   "cell_type": "code",
   "execution_count": 25,
   "metadata": {},
   "outputs": [
    {
     "name": "stdout",
     "output_type": "stream",
     "text": [
      "[[98, 95, 90], [78, 95, 87]]\n"
     ]
    }
   ],
   "source": [
    "# a. All the grades for Bob in all three semesters using list comprehension\n",
    "bobs_grades = [student[2] for student in grades_data if student[0] == \"Bob\"]\n",
    "print(bobs_grades)"
   ]
  },
  {
   "cell_type": "code",
   "execution_count": 33,
   "metadata": {},
   "outputs": [
    {
     "name": "stdout",
     "output_type": "stream",
     "text": [
      "[[78, 80, 75]]\n"
     ]
    }
   ],
   "source": [
    "# b. The grades for each of the three semesters of Charlie in math\n",
    "charlies_math_grades = [student[2] for student in grades_data if student[0] == \"Charlie\" and student[1] == \"Math\"]\n",
    "print(charlies_math_grades)"
   ]
  },
  {
   "cell_type": "code",
   "execution_count": 35,
   "metadata": {},
   "outputs": [
    {
     "name": "stdout",
     "output_type": "stream",
     "text": [
      "[[86, 92, 88], [82, 78, 80]]\n"
     ]
    }
   ],
   "source": [
    "# c. The grades for each of the second and third semesters of Alice and Charlie in Physics\n",
    "alice_charile_physics_grades = [student[2] for student in grades_data if student[1] == \"Physics\" and student[0] in [\"Alice\", \"Charlie\"]]\n",
    "print(alice_charile_physics_grades)"
   ]
  },
  {
   "cell_type": "markdown",
   "metadata": {},
   "source": [
    "## Question 3 - List, Dictionary, and sets"
   ]
  },
  {
   "cell_type": "markdown",
   "metadata": {},
   "source": [
    "### 1."
   ]
  },
  {
   "cell_type": "code",
   "execution_count": 40,
   "metadata": {},
   "outputs": [
    {
     "name": "stdout",
     "output_type": "stream",
     "text": [
      "{'TechGuru': {'January': 'San Francisco', 'February': 'Seattle', 'March': 'New York', 'April': 'Austin'}, 'CodeMaestro': {'January': 'Seattle', 'February': 'Austin', 'March': 'San Francisco', 'April': 'Chicago'}, 'InnovateX': {'January': 'New York', 'February': 'Austin', 'March': 'New York', 'April': 'San Francisco'}}\n"
     ]
    }
   ],
   "source": [
    "# Using speakers as keys and cities as values, create a single dictionary called speaker_schedule\n",
    "speaker_schedule = {\n",
    "    \"TechGuru\": {\n",
    "        \"January\": \"San Francisco\",\n",
    "        \"February\": \"Seattle\",\n",
    "        \"March\": \"New York\",\n",
    "        \"April\": \"Austin\"\n",
    "    },\n",
    "    \"CodeMaestro\": {\n",
    "        \"January\": \"Seattle\",\n",
    "        \"February\": \"Austin\",\n",
    "        \"March\": \"San Francisco\",\n",
    "        \"April\": \"Chicago\"\n",
    "    },\n",
    "    \"InnovateX\": {\n",
    "        \"January\": \"New York\",\n",
    "        \"February\": \"Austin\",\n",
    "        \"March\": \"New York\",\n",
    "        \"April\": \"San Francisco\"\n",
    "    }\n",
    "}\n",
    "print(speaker_schedule)"
   ]
  },
  {
   "cell_type": "markdown",
   "metadata": {},
   "source": [
    "### 2."
   ]
  },
  {
   "cell_type": "code",
   "execution_count": 42,
   "metadata": {},
   "outputs": [
    {
     "name": "stdout",
     "output_type": "stream",
     "text": [
      "['San Francisco', 'Seattle', 'New York', 'Austin']\n"
     ]
    }
   ],
   "source": [
    "# a. Display all the cities where TechGuru is delivering a keynote speech during those four months\n",
    "techguru_cities = [city for city in speaker_schedule[\"TechGuru\"].values()]\n",
    "print(techguru_cities)"
   ]
  },
  {
   "cell_type": "code",
   "execution_count": 47,
   "metadata": {},
   "outputs": [
    {
     "name": "stdout",
     "output_type": "stream",
     "text": [
      "Austin\n"
     ]
    }
   ],
   "source": [
    "# b. Display in which city InnovateX is having its second keynote speech of the year\n",
    "innovatex_second_city = list(speaker_schedule[\"InnovateX\"].values())[1]\n",
    "print(innovatex_second_city)"
   ]
  },
  {
   "cell_type": "code",
   "execution_count": 51,
   "metadata": {},
   "outputs": [
    {
     "name": "stdout",
     "output_type": "stream",
     "text": [
      "['Chicago', 'San Francisco', 'Austin', 'Seattle']\n"
     ]
    }
   ],
   "source": [
    "# c. Display in reverse chronological order, all the cities where CodeMaestro is delivering a keynote speech from April to February\n",
    "codemaestro_cities = list(speaker_schedule[\"CodeMaestro\"].values())[::-1]\n",
    "print(codemaestro_cities)"
   ]
  },
  {
   "cell_type": "markdown",
   "metadata": {},
   "source": [
    "### 3."
   ]
  },
  {
   "cell_type": "code",
   "execution_count": 53,
   "metadata": {},
   "outputs": [
    {
     "name": "stdout",
     "output_type": "stream",
     "text": [
      "{'New York', 'Austin', 'San Francisco'}\n"
     ]
    }
   ],
   "source": [
    "# Use the adequate Python structure to indicate all the cities InnovateX is delivering a keynote speech. Each city must only appear once\n",
    "innovatex_cities = set(speaker_schedule[\"InnovateX\"].values())\n",
    "print(innovatex_cities)"
   ]
  },
  {
   "cell_type": "markdown",
   "metadata": {},
   "source": [
    "### 4."
   ]
  },
  {
   "cell_type": "code",
   "execution_count": 65,
   "metadata": {},
   "outputs": [],
   "source": [
    "# 1. Write a function performance_analysis that receives a list of grades as parameter and checks if the average grade for the students is above 80. The function will then return two elements: the average and \"Good performance\" if the average grade for the students is above 80, otherwise the average and \"Room for improvement.\"\n",
    "def performance_analysis(grades):\n",
    "    average = sum(grades) / len(grades)\n",
    "    return f\"The student grades entered are {grades} with an average of {round(average, 2)}, the class performance is: {'Good performance.' if average > 80 else 'Room for improvement.'}\""
   ]
  },
  {
   "cell_type": "code",
   "execution_count": 66,
   "metadata": {},
   "outputs": [],
   "source": [
    "# 2. Write a function top_students that receives a list of grades as parameter and return the indices of all students with a grade above 90\n",
    "def top_students(grades):\n",
    "    return f\"The students at indicies {[i for i, grade in enumerate(grades) if grade > 90]} have a grade above 90.\""
   ]
  },
  {
   "cell_type": "code",
   "execution_count": 67,
   "metadata": {},
   "outputs": [
    {
     "name": "stdout",
     "output_type": "stream",
     "text": [
      "The student grades entered are [85, 92, 90, 95, 89, 72, 96] with an average of 88.43, the class performance is: Good performance.\n",
      "The students at indicies [1, 3, 6] have a grade above 90.\n"
     ]
    }
   ],
   "source": [
    "# 3. Call and test the functions performance_analysis and top_students with a list of grades of your choice. Display the value returned by each function\n",
    "grades = [85, 92, 90, 95, 89, 72, 96]\n",
    "print(performance_analysis(grades))\n",
    "print(top_students(grades))\n"
   ]
  }
 ],
 "metadata": {
  "kernelspec": {
   "display_name": "base",
   "language": "python",
   "name": "python3"
  },
  "language_info": {
   "codemirror_mode": {
    "name": "ipython",
    "version": 3
   },
   "file_extension": ".py",
   "mimetype": "text/x-python",
   "name": "python",
   "nbconvert_exporter": "python",
   "pygments_lexer": "ipython3",
   "version": "3.11.5"
  }
 },
 "nbformat": 4,
 "nbformat_minor": 2
}
