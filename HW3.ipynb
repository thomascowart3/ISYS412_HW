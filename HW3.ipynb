{
 "cells": [
  {
   "cell_type": "markdown",
   "metadata": {},
   "source": [
    "# Homework 3 - Thomas Cowart"
   ]
  },
  {
   "cell_type": "markdown",
   "metadata": {},
   "source": [
    "## 1)"
   ]
  },
  {
   "cell_type": "markdown",
   "metadata": {},
   "source": [
    "### A. Importing the necessary libraries and loading the dataset"
   ]
  },
  {
   "cell_type": "code",
   "execution_count": null,
   "metadata": {},
   "outputs": [
    {
     "name": "stdout",
     "output_type": "stream",
     "text": [
      "   Student_ID           Name  Age Gender                Major  \\\n",
      "0         101  Alice Johnson   21      F  Information Systems   \n",
      "1         102      Bob Smith   22      M          Mathematics   \n",
      "2         103  Charlie Davis   23      M  Information Systems   \n",
      "3         104   Diana Miller   21      F              Physics   \n",
      "4         105    Evan Garcia   22      M  Information Systems   \n",
      "\n",
      "              Course  Credits  Attendance  Midterm_Grade  Final_Grade  \\\n",
      "0   Data Science 101        3          95             88           93   \n",
      "1         Calculus I        4          80             92           89   \n",
      "2    Data Structures        3          55             65           58   \n",
      "3  Quantum Mechanics        4          75             79           80   \n",
      "4   Data Science 101        3          60             85           86   \n",
      "\n",
      "   Assignment_Completion  Participation Passed  \n",
      "0                    100              9    Yes  \n",
      "1                     90              8    Yes  \n",
      "2                     45              5     No  \n",
      "3                     85              7    Yes  \n",
      "4                     60              6    Yes  \n"
     ]
    }
   ],
   "source": [
    "import pandas as pd\n",
    "import matplotlib.pyplot as plt\n",
    "import seaborn as sns\n",
    "\n",
    "# a. Import the dataset\n",
    "student_performance = pd.read_csv('Student_Performance.csv')\n",
    "\n",
    "# Display the first few rows to understand the structure\n",
    "print(student_performance.head())"
   ]
  },
  {
   "cell_type": "markdown",
   "metadata": {},
   "source": [
    "### B. Names and IDs of 21-year-old Information Systems majors"
   ]
  },
  {
   "cell_type": "code",
   "execution_count": null,
   "metadata": {},
   "outputs": [
    {
     "name": "stdout",
     "output_type": "stream",
     "text": [
      "\n",
      "Names and IDs of 21-year-old Information Systems majors:\n",
      "              Name  Student_ID\n",
      "0    Alice Johnson         101\n",
      "7       Hannah Kim         108\n",
      "16   Charlie Davis         117\n",
      "36    Jackie Clark         137\n",
      "43   Charlie Davis         144\n",
      "47    George Brown         148\n",
      "88   Alice Johnson         189\n",
      "100  Charlie Davis         201\n",
      "101  Alice Johnson         202\n",
      "115    Evan Garcia         216\n",
      "127   George Brown         228\n",
      "146     Ian Wright         247\n",
      "155  Alice Johnson         256\n",
      "163     Hannah Kim         264\n",
      "174  Alice Johnson         275\n",
      "177   Diana Miller         278\n"
     ]
    }
   ],
   "source": [
    "#b. Filter students who are 21 years old and majoring in Information Systems\n",
    "is_students_21 = student_performance[(student_performance['Age'] == 21) & \n",
    "                                    (student_performance['Major'] == 'Information Systems')]\n",
    "\n",
    "# Select only the Name and Student_ID columns\n",
    "result_b = is_students_21[['Name', 'Student_ID']]\n",
    "print(\"\\nNames and IDs of 21-year-old Information Systems majors:\")\n",
    "print(result_b)"
   ]
  },
  {
   "cell_type": "markdown",
   "metadata": {},
   "source": [
    "### C. Number of students who passed Data Science 101"
   ]
  },
  {
   "cell_type": "code",
   "execution_count": 7,
   "metadata": {},
   "outputs": [
    {
     "name": "stdout",
     "output_type": "stream",
     "text": [
      "\n",
      "Number of students who passed Data Science 101: 37\n"
     ]
    }
   ],
   "source": [
    "# Filter students who took Data Science 101 and passed\n",
    "data_science_passed = student_performance[(student_performance['Course'] == 'Data Science 101') & \n",
    "                                         (student_performance['Passed'] == 'Yes')]\n",
    "\n",
    "# Count the number of students\n",
    "count_passed = len(data_science_passed)\n",
    "print(f\"\\nNumber of students who passed Data Science 101: {count_passed}\")"
   ]
  },
  {
   "cell_type": "markdown",
   "metadata": {},
   "source": [
    "### D. Student with highest midterm grade in Data Structures"
   ]
  },
  {
   "cell_type": "code",
   "execution_count": 8,
   "metadata": {},
   "outputs": [
    {
     "name": "stdout",
     "output_type": "stream",
     "text": [
      "\n",
      "Student with highest midterm grade in Data Structures: Bob Smith with a grade of 99\n"
     ]
    }
   ],
   "source": [
    "# Filter students who took Data Structures\n",
    "data_structures_students = student_performance[student_performance['Course'] == 'Data Structures']\n",
    "\n",
    "# Find the student with the highest midterm grade\n",
    "highest_midterm = data_structures_students.loc[data_structures_students['Midterm_Grade'].idxmax()]\n",
    "print(f\"\\nStudent with highest midterm grade in Data Structures: {highest_midterm['Name']} with a grade of {highest_midterm['Midterm_Grade']}\")"
   ]
  },
  {
   "cell_type": "markdown",
   "metadata": {},
   "source": [
    "### E. Histogram of midterm grades"
   ]
  },
  {
   "cell_type": "code",
   "execution_count": 10,
   "metadata": {},
   "outputs": [
    {
     "data": {
      "image/png": "[encoded data removed]",
      "text/plain": [
       "<Figure size 1000x600 with 1 Axes>"
      ]
     },
     "metadata": {},
     "output_type": "display_data"
    }
   ],
   "source": [
    "# Create a histogram of midterm grades\n",
    "plt.figure(figsize=(10, 6))\n",
    "plt.hist(student_performance['Midterm_Grade'], bins=10, color='green', edgecolor='black')\n",
    "plt.title('Distribution of Midterm Grades')\n",
    "plt.xlabel('Midterm Grade')\n",
    "plt.ylabel('Number of Students')\n",
    "plt.grid(axis='y', alpha=0.75)\n",
    "plt.show()"
   ]
  },
  {
   "cell_type": "markdown",
   "metadata": {},
   "source": [
    "### F. Add At_Risk column"
   ]
  },
  {
   "cell_type": "code",
   "execution_count": 11,
   "metadata": {},
   "outputs": [
    {
     "name": "stdout",
     "output_type": "stream",
     "text": [
      "\n",
      "DataFrame with At_Risk column:\n",
      "   Student_ID           Name  Age Gender                Major  \\\n",
      "0         101  Alice Johnson   21      F  Information Systems   \n",
      "1         102      Bob Smith   22      M          Mathematics   \n",
      "2         103  Charlie Davis   23      M  Information Systems   \n",
      "3         104   Diana Miller   21      F              Physics   \n",
      "4         105    Evan Garcia   22      M  Information Systems   \n",
      "\n",
      "              Course  Credits  Attendance  Midterm_Grade  Final_Grade  \\\n",
      "0   Data Science 101        3          95             88           93   \n",
      "1         Calculus I        4          80             92           89   \n",
      "2    Data Structures        3          55             65           58   \n",
      "3  Quantum Mechanics        4          75             79           80   \n",
      "4   Data Science 101        3          60             85           86   \n",
      "\n",
      "   Assignment_Completion  Participation Passed  At_Risk  \n",
      "0                    100              9    Yes    False  \n",
      "1                     90              8    Yes    False  \n",
      "2                     45              5     No     True  \n",
      "3                     85              7    Yes    False  \n",
      "4                     60              6    Yes    False  \n"
     ]
    }
   ],
   "source": [
    "# Define the criteria for \"At Risk\" students\n",
    "student_performance['At_Risk'] = (student_performance['Attendance'] < 60) & (student_performance['Assignment_Completion'] < 50)\n",
    "\n",
    "# Display the first few rows with the new column\n",
    "print(\"\\nDataFrame with At_Risk column:\")\n",
    "print(student_performance.head())"
   ]
  },
  {
   "cell_type": "markdown",
   "metadata": {},
   "source": [
    "### G. Save Updated DataFrame"
   ]
  },
  {
   "cell_type": "code",
   "execution_count": 12,
   "metadata": {},
   "outputs": [
    {
     "name": "stdout",
     "output_type": "stream",
     "text": [
      "\n",
      "DataFrame with At_Risk column:\n",
      "   Student_ID           Name  Age Gender                Major  \\\n",
      "0         101  Alice Johnson   21      F  Information Systems   \n",
      "1         102      Bob Smith   22      M          Mathematics   \n",
      "2         103  Charlie Davis   23      M  Information Systems   \n",
      "3         104   Diana Miller   21      F              Physics   \n",
      "4         105    Evan Garcia   22      M  Information Systems   \n",
      "\n",
      "              Course  Credits  Attendance  Midterm_Grade  Final_Grade  \\\n",
      "0   Data Science 101        3          95             88           93   \n",
      "1         Calculus I        4          80             92           89   \n",
      "2    Data Structures        3          55             65           58   \n",
      "3  Quantum Mechanics        4          75             79           80   \n",
      "4   Data Science 101        3          60             85           86   \n",
      "\n",
      "   Assignment_Completion  Participation Passed  At_Risk  \n",
      "0                    100              9    Yes    False  \n",
      "1                     90              8    Yes    False  \n",
      "2                     45              5     No     True  \n",
      "3                     85              7    Yes    False  \n",
      "4                     60              6    Yes    False  \n"
     ]
    }
   ],
   "source": [
    "# Define the criteria for \"At Risk\" students\n",
    "student_performance['At_Risk'] = (student_performance['Attendance'] < 60) & (student_performance['Assignment_Completion'] < 50)\n",
    "\n",
    "# Display the first few rows with the new column\n",
    "print(\"\\nDataFrame with At_Risk column:\")\n",
    "print(student_performance.head())"
   ]
  },
  {
   "cell_type": "markdown",
   "metadata": {},
   "source": [
    "## 2)"
   ]
  },
  {
   "cell_type": "markdown",
   "metadata": {},
   "source": [
    "### A. Create IS_Students DataFrame"
   ]
  },
  {
   "cell_type": "code",
   "execution_count": 13,
   "metadata": {},
   "outputs": [
    {
     "name": "stdout",
     "output_type": "stream",
     "text": [
      "\n",
      "IS_Students DataFrame:\n",
      "                     Name  Age Gender            Course  Credits  Attendance  \\\n",
      "Student_ID                                                                     \n",
      "101         Alice Johnson   21      F  Data Science 101        3          95   \n",
      "103         Charlie Davis   23      M   Data Structures        3          55   \n",
      "105           Evan Garcia   22      M  Data Science 101        3          60   \n",
      "108            Hannah Kim   21      F   Data Structures        3          40   \n",
      "110          Jackie Clark   22      F  Data Science 101        3          92   \n",
      "\n",
      "            Midterm_Grade  Final_Grade  Assignment_Completion  Participation  \\\n",
      "Student_ID                                                                     \n",
      "101                    88           93                    100              9   \n",
      "103                    65           58                     45              5   \n",
      "105                    85           86                     60              6   \n",
      "108                    60           62                     35              4   \n",
      "110                    97           99                     98             10   \n",
      "\n",
      "           Passed  At_Risk  \n",
      "Student_ID                  \n",
      "101           Yes    False  \n",
      "103            No     True  \n",
      "105           Yes    False  \n",
      "108            No     True  \n",
      "110           Yes    False  \n"
     ]
    }
   ],
   "source": [
    "# Create a DataFrame with only Information Systems students\n",
    "is_students = student_performance[student_performance['Major'] == 'Information Systems'].copy()\n",
    "\n",
    "# Set Student_ID as index and drop Student_ID and Major columns\n",
    "IS_Students = is_students.set_index('Student_ID')\n",
    "IS_Students = IS_Students.drop('Major', axis=1)\n",
    "\n",
    "print(\"\\nIS_Students DataFrame:\")\n",
    "print(IS_Students.head())"
   ]
  },
  {
   "cell_type": "markdown",
   "metadata": {},
   "source": [
    "### B. Name of student with ID 271"
   ]
  },
  {
   "cell_type": "code",
   "execution_count": 14,
   "metadata": {},
   "outputs": [
    {
     "name": "stdout",
     "output_type": "stream",
     "text": [
      "\n",
      "Name of student with ID 271: Fiona Lee\n"
     ]
    }
   ],
   "source": [
    "# Find the name of student with ID 271\n",
    "try:\n",
    "    student_271 = IS_Students.loc[271, 'Name']\n",
    "    print(f\"\\nName of student with ID 271: {student_271}\")\n",
    "except KeyError:\n",
    "    print(\"\\nStudent with ID 271 not found in Information Systems major\")"
   ]
  },
  {
   "cell_type": "markdown",
   "metadata": {},
   "source": [
    "### C. Average final grade for students with high assignment completion"
   ]
  },
  {
   "cell_type": "code",
   "execution_count": 15,
   "metadata": {},
   "outputs": [
    {
     "name": "stdout",
     "output_type": "stream",
     "text": [
      "\n",
      "Average final grade for IS students with >80% assignment completion: 76.77\n"
     ]
    }
   ],
   "source": [
    "# Calculate average final grade for students who completed more than 80% of assignments\n",
    "high_completion = IS_Students[IS_Students['Assignment_Completion'] > 80]\n",
    "avg_final_grade = high_completion['Final_Grade'].mean()\n",
    "print(f\"\\nAverage final grade for IS students with >80% assignment completion: {avg_final_grade:.2f}\")"
   ]
  },
  {
   "cell_type": "markdown",
   "metadata": {},
   "source": [
    "### D. Compare participation scores of highest and lowest midterm performers"
   ]
  },
  {
   "cell_type": "code",
   "execution_count": 16,
   "metadata": {},
   "outputs": [
    {
     "name": "stdout",
     "output_type": "stream",
     "text": [
      "\n",
      "Comparison of participation scores:\n",
      "Student with highest midterm (Alice Johnson): 6\n",
      "Student with lowest midterm (Diana Miller): 9\n",
      "Diana Miller has the higher participation score\n"
     ]
    }
   ],
   "source": [
    "# Find the student with the highest midterm grade\n",
    "highest_midterm_student = IS_Students.loc[IS_Students['Midterm_Grade'].idxmax()]\n",
    "\n",
    "# Find the student with the lowest midterm grade\n",
    "lowest_midterm_student = IS_Students.loc[IS_Students['Midterm_Grade'].idxmin()]\n",
    "\n",
    "print(\"\\nComparison of participation scores:\")\n",
    "print(f\"Student with highest midterm ({highest_midterm_student['Name']}): {highest_midterm_student['Participation']}\")\n",
    "print(f\"Student with lowest midterm ({lowest_midterm_student['Name']}): {lowest_midterm_student['Participation']}\")\n",
    "\n",
    "# Compare who has the higher participation score\n",
    "if highest_midterm_student['Participation'] > lowest_midterm_student['Participation']:\n",
    "    print(f\"{highest_midterm_student['Name']} has the higher participation score\")\n",
    "elif highest_midterm_student['Participation'] < lowest_midterm_student['Participation']:\n",
    "    print(f\"{lowest_midterm_student['Name']} has the higher participation score\")\n",
    "else:\n",
    "    print(\"Both students have the same participation score\")"
   ]
  },
  {
   "cell_type": "markdown",
   "metadata": {},
   "source": [
    "### E. Violin plot for participation distribution by risk status"
   ]
  },
  {
   "cell_type": "code",
   "execution_count": 21,
   "metadata": {},
   "outputs": [
    {
     "name": "stderr",
     "output_type": "stream",
     "text": [
      "/Users/thomascowart/anaconda3/lib/python3.11/site-packages/seaborn/_oldcore.py:1498: FutureWarning: is_categorical_dtype is deprecated and will be removed in a future version. Use isinstance(dtype, CategoricalDtype) instead\n",
      "  if pd.api.types.is_categorical_dtype(vector):\n",
      "/Users/thomascowart/anaconda3/lib/python3.11/site-packages/seaborn/_oldcore.py:1498: FutureWarning: is_categorical_dtype is deprecated and will be removed in a future version. Use isinstance(dtype, CategoricalDtype) instead\n",
      "  if pd.api.types.is_categorical_dtype(vector):\n",
      "/Users/thomascowart/anaconda3/lib/python3.11/site-packages/seaborn/_oldcore.py:1498: FutureWarning: is_categorical_dtype is deprecated and will be removed in a future version. Use isinstance(dtype, CategoricalDtype) instead\n",
      "  if pd.api.types.is_categorical_dtype(vector):\n"
     ]
    },
    {
     "data": {
      "image/png": "[encoded data removed]",
      "text/plain": [
       "<Figure size 1000x600 with 1 Axes>"
      ]
     },
     "metadata": {},
     "output_type": "display_data"
    }
   ],
   "source": [
    "# Create a violin plot to compare participation distribution by risk status\n",
    "plt.figure(figsize=(10, 6))\n",
    "sns.violinplot(x='At_Risk', y='Participation', data=IS_Students, color='green')\n",
    "plt.title('Participation Distribution of IS Students by Risk Status')\n",
    "plt.xlabel('At Risk Status')\n",
    "plt.ylabel('Participation Score')\n",
    "plt.xticks([0, 1], ['Not At Risk', 'At Risk'])\n",
    "plt.show()"
   ]
  }
 ],
 "metadata": {
  "kernelspec": {
   "display_name": "base",
   "language": "python",
   "name": "python3"
  },
  "language_info": {
   "codemirror_mode": {
    "name": "ipython",
    "version": 3
   },
   "file_extension": ".py",
   "mimetype": "text/x-python",
   "name": "python",
   "nbconvert_exporter": "python",
   "pygments_lexer": "ipython3",
   "version": "3.11.5"
  }
 },
 "nbformat": 4,
 "nbformat_minor": 2
}
