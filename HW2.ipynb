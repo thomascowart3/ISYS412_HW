{
 "cells": [
  {
   "cell_type": "markdown",
   "metadata": {},
   "source": [
    "# HW 2 - Thomas Cowart"
   ]
  },
  {
   "cell_type": "markdown",
   "metadata": {},
   "source": [
    "### Question 1:"
   ]
  },
  {
   "cell_type": "code",
   "execution_count": 1,
   "metadata": {},
   "outputs": [
    {
     "name": "stdout",
     "output_type": "stream",
     "text": [
      "Too low! Try again.\n",
      "Too high! Try again.\n",
      "Too low! Try again.\n",
      "Too low! Try again.\n",
      "Too high! Try again.\n",
      "That's correct! The random number was 36. I can't believe you actually guessed it!\n"
     ]
    }
   ],
   "source": [
    "# Import library for random number generation\n",
    "import random\n",
    "\n",
    "# Generate a random number between 1 and 50\n",
    "randnum = random.randint(1, 50)\n",
    "\n",
    "# Create while loop and conditional logic for game\n",
    "while True:\n",
    "    user_input = input(\"Guess a number between 1 and 50: \")\n",
    "    \n",
    "    try:\n",
    "        guess = int(user_input)  # Convert input to integer\n",
    "    except ValueError:\n",
    "        print(\"Invalid input. Please enter a number.\")\n",
    "        continue  # Restart loop if input is not an integer\n",
    "\n",
    "    if guess < 1 or guess > 50:\n",
    "        print(\"Your input is outside of the specified range. Please enter an integer between 1 and 50.\")\n",
    "        continue  # Restart loop if input is out of range\n",
    "\n",
    "    if guess > randnum:\n",
    "        print(\"Too high! Try again.\")\n",
    "    elif guess < randnum:\n",
    "        print(\"Too low! Try again.\")\n",
    "    else:\n",
    "        print(f\"That's correct! The random number was {randnum}. I can't believe you actually guessed it!\")\n",
    "        break  # Exit loop when correct guess is made"
   ]
  },
  {
   "cell_type": "markdown",
   "metadata": {},
   "source": [
    "### Question 2:"
   ]
  },
  {
   "cell_type": "code",
   "execution_count": 2,
   "metadata": {},
   "outputs": [
    {
     "name": "stdout",
     "output_type": "stream",
     "text": [
      "Dice rolls: 1, 1 - Lucky roll! Sum: 2\n",
      "Dice rolls: 1, 2 - Sum: 3\n",
      "Dice rolls: 1, 3 - Sum: 4\n",
      "Dice rolls: 1, 4 - Sum: 5\n",
      "Dice rolls: 1, 5 - Sum: 6\n",
      "Dice rolls: 1, 6 - Lucky roll! Sum: 7\n",
      "Dice rolls: 2, 1 - Sum: 3\n",
      "Dice rolls: 2, 2 - Sum: 4\n",
      "Dice rolls: 2, 3 - Sum: 5\n",
      "Dice rolls: 2, 4 - Sum: 6\n",
      "Dice rolls: 2, 5 - Lucky roll! Sum: 7\n",
      "Dice rolls: 2, 6 - Sum: 8\n",
      "Dice rolls: 3, 1 - Sum: 4\n",
      "Dice rolls: 3, 2 - Sum: 5\n",
      "Dice rolls: 3, 3 - Sum: 6\n",
      "Dice rolls: 3, 4 - Lucky roll! Sum: 7\n",
      "Dice rolls: 3, 5 - Sum: 8\n",
      "Dice rolls: 3, 6 - Sum: 9\n",
      "Dice rolls: 4, 1 - Sum: 5\n",
      "Dice rolls: 4, 2 - Sum: 6\n",
      "Dice rolls: 4, 3 - Lucky roll! Sum: 7\n",
      "Dice rolls: 4, 4 - Sum: 8\n",
      "Dice rolls: 4, 5 - Sum: 9\n",
      "Dice rolls: 4, 6 - Sum: 10\n",
      "Dice rolls: 5, 1 - Sum: 6\n",
      "Dice rolls: 5, 2 - Lucky roll! Sum: 7\n",
      "Dice rolls: 5, 3 - Sum: 8\n",
      "Dice rolls: 5, 4 - Sum: 9\n",
      "Dice rolls: 5, 5 - Sum: 10\n",
      "Dice rolls: 5, 6 - Lucky roll! Sum: 11\n",
      "Dice rolls: 6, 1 - Lucky roll! Sum: 7\n",
      "Dice rolls: 6, 2 - Sum: 8\n",
      "Dice rolls: 6, 3 - Sum: 9\n",
      "Dice rolls: 6, 4 - Sum: 10\n",
      "Dice rolls: 6, 5 - Lucky roll! Sum: 11\n",
      "Dice rolls: 6, 6 - Sum: 12\n"
     ]
    }
   ],
   "source": [
    "# Iterate through all possible outcomes of two dice rolls\n",
    "for die1 in range(1, 7):  # Die 1 rolls from 1 to 6\n",
    "    for die2 in range(1, 7):  # Die 2 rolls from 1 to 6\n",
    "        roll_sum = die1 + die2  # Sum of the two dice rolls\n",
    "        \n",
    "        # Check if the sum is 2, 7, or 11\n",
    "        if roll_sum in [7, 11, 2]:\n",
    "            print(f\"Dice rolls: {die1}, {die2} - Lucky roll! Sum: {roll_sum}\")\n",
    "        else:\n",
    "            print(f\"Dice rolls: {die1}, {die2} - Sum: {roll_sum}\")"
   ]
  },
  {
   "cell_type": "markdown",
   "metadata": {},
   "source": [
    "### Question 3:"
   ]
  },
  {
   "cell_type": "markdown",
   "metadata": {},
   "source": [
    "##### Step 1-"
   ]
  },
  {
   "cell_type": "code",
   "execution_count": 3,
   "metadata": {},
   "outputs": [
    {
     "name": "stdout",
     "output_type": "stream",
     "text": [
      "Prime numbers in the sequence: [2, 67, 37, 7, 5]\n"
     ]
    }
   ],
   "source": [
    "# Accept a sequence of positive integers and display all prime numbers from the sequence\n",
    "def main():\n",
    "    user_input = []\n",
    "    \n",
    "    # Accepting user input until -1 is entered.\n",
    "    while True:\n",
    "        try:\n",
    "            num = int(input(\"Enter a positive integer (-1 to stop): \"))\n",
    "            if num == -1:\n",
    "                break\n",
    "            elif num > 0:\n",
    "                user_input.append(num)\n",
    "            else:\n",
    "                print(\"Please enter a positive integer.\")\n",
    "        except ValueError:\n",
    "            print(\"Invalid input. Please enter an integer.\")\n",
    "\n",
    "    print(\"Prime numbers in the sequence:\", [num for num in user_input if is_prime(num)])\n",
    "\n",
    "def is_prime(num):\n",
    "    if num <= 1:\n",
    "        return False\n",
    "    for i in range(2, int(num ** 0.5) + 1):\n",
    "        if num % i == 0:\n",
    "            return False\n",
    "    return True\n",
    "\n",
    "# Run the main function\n",
    "main()"
   ]
  },
  {
   "cell_type": "markdown",
   "metadata": {},
   "source": [
    "##### Step 2-"
   ]
  },
  {
   "cell_type": "code",
   "execution_count": 4,
   "metadata": {},
   "outputs": [
    {
     "name": "stdout",
     "output_type": "stream",
     "text": [
      "Please enter a positive integer.\n",
      "Prime numbers in the sequence: [23, 79]\n"
     ]
    }
   ],
   "source": [
    "# Refactor the program with functions is_prime and find_primes\n",
    "def main():\n",
    "    user_input = []\n",
    "    \n",
    "    # Accepting user input until -1 is entered.\n",
    "    while True:\n",
    "        try:\n",
    "            num = int(input(\"Enter a positive integer (-1 to stop): \"))\n",
    "            if num == -1:\n",
    "                break\n",
    "            elif num > 0:\n",
    "                user_input.append(num)\n",
    "            else:\n",
    "                print(\"Please enter a positive integer.\")\n",
    "        except ValueError:\n",
    "            print(\"Invalid input. Please enter an integer.\")\n",
    "    \n",
    "    # Using find_primes function to get the list of primes.\n",
    "    primes = find_primes(user_input)\n",
    "    print(\"Prime numbers in the sequence:\", primes)\n",
    "\n",
    "def is_prime(num):\n",
    "    if num <= 1:\n",
    "        return False\n",
    "    for i in range(2, int(num ** 0.5) + 1):\n",
    "        if num % i == 0:\n",
    "            return False\n",
    "    return True\n",
    "\n",
    "def find_primes(sequence):\n",
    "    return [num for num in sequence if is_prime(num)]\n",
    "\n",
    "# Run the main function\n",
    "main()"
   ]
  }
 ],
 "metadata": {
  "kernelspec": {
   "display_name": "base",
   "language": "python",
   "name": "python3"
  },
  "language_info": {
   "codemirror_mode": {
    "name": "ipython",
    "version": 3
   },
   "file_extension": ".py",
   "mimetype": "text/x-python",
   "name": "python",
   "nbconvert_exporter": "python",
   "pygments_lexer": "ipython3",
   "version": "3.11.5"
  }
 },
 "nbformat": 4,
 "nbformat_minor": 2
}
